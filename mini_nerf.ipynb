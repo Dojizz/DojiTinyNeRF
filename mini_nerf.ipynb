{
 "cells": [
  {
   "cell_type": "code",
   "execution_count": 170,
   "metadata": {},
   "outputs": [],
   "source": [
    "import os, sys\n",
    "import torch\n",
    "import torch.nn as nn\n",
    "import numpy as np\n",
    "import matplotlib.pyplot as plt\n",
    "import math"
   ]
  },
  {
   "cell_type": "code",
   "execution_count": 171,
   "metadata": {},
   "outputs": [],
   "source": [
    "# to device\n",
    "if torch.cuda.is_available():\n",
    "    device = torch.device('cuda')\n",
    "else:\n",
    "    device = torch.device('cpu')"
   ]
  },
  {
   "cell_type": "code",
   "execution_count": 172,
   "metadata": {},
   "outputs": [],
   "source": [
    "# load data\n",
    "data = np.load('tiny_nerf_data.npz')\n",
    "images = data['images']\n",
    "poses = data['poses']\n",
    "focal = data['focal']\n",
    "\n",
    "H, W = images.shape[1:3]\n",
    "# 100 test samples, RGB data\n",
    "testimage, testpose = images[102], poses[102]\n",
    "images = images[:100, ..., :3]\n",
    "poses = poses[:100]\n",
    "chunk = 1024"
   ]
  },
  {
   "cell_type": "code",
   "execution_count": 173,
   "metadata": {},
   "outputs": [
    {
     "name": "stdout",
     "output_type": "stream",
     "text": [
      "(100, 100, 3) (4, 4) 138.88887889922103\n"
     ]
    },
    {
     "data": {
      "text/plain": [
       "<matplotlib.image.AxesImage at 0x2e21f45daf0>"
      ]
     },
     "execution_count": 173,
     "metadata": {},
     "output_type": "execute_result"
    },
    {
     "data": {
      "image/png": "[encoded data removed]",
      "text/plain": [
       "<Figure size 640x480 with 1 Axes>"
      ]
     },
     "metadata": {},
     "output_type": "display_data"
    }
   ],
   "source": [
    "print(testimage.shape, testpose.shape, focal)\n",
    "plt.imshow(testimage)"
   ]
  },
  {
   "cell_type": "code",
   "execution_count": 174,
   "metadata": {},
   "outputs": [],
   "source": [
    "# from camera coordinate to world\n",
    "def get_rays(H, W, focal, c2w):\n",
    "    # hori: [0., 1.,..., W-1]\n",
    "    hori_vector = torch.arange(0, W, dtype = torch.float32)\n",
    "    # vert: [0., 1.,..., H-1]\n",
    "    vert_vector = torch.arange(0, H, dtype = torch.float32)\n",
    "    # hori_mesh: [0., 1.,..., W-1] * H layer, similar to vert_mesh\n",
    "    hori_mesh, vert_mesh = torch.meshgrid(hori_vector, vert_vector, indexing='xy')\n",
    "    # move to center\n",
    "    hori_mesh = hori_mesh - (W-1)/2.\n",
    "    vert_mesh = (vert_mesh - (H-1)/2.) * (-1)\n",
    "    # normalize, use focal\n",
    "    hori_mesh = hori_mesh / focal\n",
    "    vert_mesh = vert_mesh / focal\n",
    "    # stack, rays_dir.shape=[H, W, 3]\n",
    "    z_mesh = torch.ones_like(hori_mesh) * (-1)\n",
    "    rays_dir = torch.stack([hori_mesh, vert_mesh, z_mesh], -1)\n",
    "    # to world space, c2w.shape = [4, 4]\n",
    "    # Tensor与行向量做*乘法的结果是每列乘以行向量对应列的值\n",
    "    # 向量不需要考虑平移\n",
    "    # rays_dir.shape = rays_ori.shape = [H, W, 3]\n",
    "    rays_dir = torch.sum(rays_dir[..., np.newaxis, :] * c2w[:3, :3], dim = -1)\n",
    "    rays_ori = torch.broadcast_to(torch.tensor(c2w[:3,3]), rays_dir.shape)\n",
    "    rays_dir.to(device)\n",
    "    rays_ori.to(device)\n",
    "    return rays_ori, rays_dir\n"
   ]
  },
  {
   "cell_type": "code",
   "execution_count": 175,
   "metadata": {},
   "outputs": [],
   "source": [
    "def positional_encoding(x, l):\n",
    "    # x.shape = [N, dimension]\n",
    "    result = [x]\n",
    "    for i in range(l):\n",
    "        result.append(torch.sin(2.**i * math.pi * x))\n",
    "        result.append(torch.cos(2.**i * math.pi * x))\n",
    "    # output.shape = [1, dimension * 2 * l + dimension)]\n",
    "    return torch.concat(result, -1)"
   ]
  },
  {
   "cell_type": "code",
   "execution_count": 176,
   "metadata": {},
   "outputs": [],
   "source": [
    "# a simplified nerf model\n",
    "class NeRF(nn.Module):\n",
    "    def __init__(self, depth = 8, width = 256, encoding_l = 6):\n",
    "        super().__init__()\n",
    "        self.net1 = nn.Sequential()\n",
    "        self.net2 = nn.Sequential()\n",
    "        for i in range(depth // 2):\n",
    "            if i == 0:\n",
    "                self.net1.add_module(f'linear_{i}', nn.Linear(3 + 3 * 2 * encoding_l, width))\n",
    "                self.net1.add_module(f'relu_{i}', nn.ReLU())\n",
    "            else:\n",
    "                self.net1.add_module(f'linear_{i}', nn.Linear(width, width))\n",
    "                self.net1.add_module(f'relu_{i}', nn.ReLU())\n",
    "        \n",
    "        for i in range(depth // 2, depth):\n",
    "            if i == depth // 2:\n",
    "                self.net2.add_module(f'linear_{i}', nn.Linear(width + 3 + 3 * 2 * encoding_l, width))\n",
    "                self.net2.add_module(f'relu_{i}', nn.ReLU())\n",
    "            elif i == depth - 1:\n",
    "                # here, no activation\n",
    "                self.net2.add_module(f'linear_{i}', nn.Linear(width, 4))\n",
    "            else:\n",
    "                self.net2.add_module(f'linear_{i}', nn.Linear(width, width))\n",
    "                self.net2.add_module(f'relu_{i}', nn.ReLU())\n",
    "        \n",
    "    def forward(self, x):\n",
    "        # input is already encoded, shape = [N, dimension]\n",
    "        output = self.net1(x)\n",
    "        # output.shape = [N, width]\n",
    "        output = self.net2(torch.concat([output, x], -1))\n",
    "        # output.shape = [N, 4]\n",
    "        # sigma->relu, rgb->sigmoid\n",
    "        sigma_a = torch.relu(output[..., 3])\n",
    "        rgb = torch.sigmoid(output[..., :3])\n",
    "        return sigma_a, rgb"
   ]
  },
  {
   "cell_type": "code",
   "execution_count": 177,
   "metadata": {},
   "outputs": [],
   "source": [
    "# near/far: true, physical frustum near/far plane in world coordicate\n",
    "# rays_ori: camera origin position\n",
    "# rays_dir: vector points from rays_ori to the z = -1 plane\n",
    "# N_samples: sample number for each ray\n",
    "# rand: if randomly select samples in a fixed range, or just simply uniformly sample\n",
    "# render rays in one image\n",
    "def render_rays(network, rays_ori, rays_dir, near, far, N_samples, rand = False):\n",
    "    # predict batchly\n",
    "    # def batchify_cal(model, inputs, chunk=1024*32):\n",
    "    #     # if i + chunk >= input.shape[0], will automatically detect and truncate\n",
    "    #     # return torch.concat([model(input[i: i + chunk]) \n",
    "    #     #                     for i in range(0, input.shape[0], chunk)], 0)\n",
    "    #     sigma_a, rgb = model(inputs[:chunk])\n",
    "    #     for i in range(chunk, inputs.shape[0], chunk):\n",
    "    #         small_sigma_a, small_rgb = model(inputs[i: i + chunk])\n",
    "    #         sigma_a = torch.concat([sigma_a, small_sigma_a], 0)\n",
    "    #         rgb = torch.concat([rgb, small_rgb], 0)\n",
    "    #     return sigma_a, rgb\n",
    "\n",
    "\n",
    "    # compute z query values\n",
    "    # rays_ori/rays_dir: [H, W, 3]\n",
    "    # z_samples.shape = [H, W, N]\n",
    "    if rand:\n",
    "        z_samples = torch.linspace(near, far, N_samples + 1)\n",
    "        # drop last one\n",
    "        z_samples = z_samples[:-1]\n",
    "        # unifomly, randomly sample in range like [near, near + (far-near)/(N)]\n",
    "        z_samples = torch.broadcast_to(z_samples, list(rays_dir.shape[:2]) + [N_samples])\n",
    "        z_samples = z_samples + torch.rand(z_samples.shape) * (far - near) / N_samples\n",
    "    else:\n",
    "        z_samples = torch.linspace(near, far, N_samples)\n",
    "        z_samples = torch.broadcast_to(z_samples, list(rays_dir.shape[:2]) + [N_samples])\n",
    "\n",
    "    z_samples.to(device)\n",
    "    # compute 3D query point, target is points.shape = [H, W, N, 3]\n",
    "    # points = [H, W, 1, 3] + [H, W, N, 1] * [H, W, 1, 3]\n",
    "    points = rays_ori[..., np.newaxis, :] + z_samples[..., np.newaxis] * rays_dir[..., np.newaxis, :]\n",
    "    points.to(device)\n",
    "    flat_points = torch.reshape(points, [-1, 3])\n",
    "    flat_points.to(device)\n",
    "    # positional encoding\n",
    "    inputs = positional_encoding(x = flat_points, l = 6)\n",
    "    # predict\n",
    "    inputs.to(device)\n",
    "    # discard function, directly write here\n",
    "    sigma_a, rgb = network(inputs[:chunk])\n",
    "    for i in range(chunk, inputs.shape[0], chunk):\n",
    "        small_sigma_a, small_rgb = network(inputs[i: i + chunk])\n",
    "        sigma_a = torch.concat([sigma_a, small_sigma_a], 0)\n",
    "        rgb = torch.concat([rgb, small_rgb], 0)\n",
    "\n",
    "    # sigma_a, rgb = batchify_cal(network, inputs)\n",
    "    sigma_a = torch.reshape(sigma_a, list(points.shape[:-1]))\n",
    "    rgb = torch.reshape(rgb, points.shape)\n",
    "    \n",
    "    # volume rendering\n",
    "    # z_subtract[H, W, m] = z_samples[H, W, m+1] - z_samples[H, W, m]\n",
    "    z_subtract = z_samples[..., 1:] - z_samples[..., :-1]\n",
    "    # inf_far.shape = [H, W, 1]\n",
    "    inf_far = torch.broadcast_to(torch.tensor([1e10]), list(z_subtract.shape[:-1]) + [1])\n",
    "    # z_subtract.shape = [H, W, N]\n",
    "    z_subtract = torch.concat([z_subtract, inf_far], -1)\n",
    "    # opacity.shape = [H, W, N]\n",
    "    opacity = 1 - torch.exp(- z_subtract * sigma_a)\n",
    "    # transmittance, pytorch doesn't have exclusive option, so need more steps to process\n",
    "    # shape = [H, W, N]\n",
    "    transmittance = torch.cumprod(1 - opacity, dim = -1)\n",
    "    # drop [..., -1], add [..., 0] = 1\n",
    "    additional_one = torch.ones(list(transmittance.shape[:-1]) + [1])\n",
    "    transmittance = torch.concat([additional_one, transmittance[..., :-1]], -1)\n",
    "\n",
    "    # render, rgb_map.shape = [H, W, 3]\n",
    "    weights = transmittance * opacity\n",
    "    weights.to(device)\n",
    "    rgb_map = torch.sum(weights[..., np.newaxis] * rgb, -2)\n",
    "    depth_map = torch.sum(weights * z_samples, -1)\n",
    "    acc_map = torch.sum(weights, -1)\n",
    "\n",
    "    # what is acc_map??\n",
    "    return rgb_map, depth_map, acc_map    "
   ]
  },
  {
   "cell_type": "code",
   "execution_count": 178,
   "metadata": {},
   "outputs": [
    {
     "ename": "RuntimeError",
     "evalue": "CUDA out of memory. Tried to allocate 96.00 MiB (GPU 0; 4.00 GiB total capacity; 3.05 GiB already allocated; 0 bytes free; 3.10 GiB reserved in total by PyTorch) If reserved memory is >> allocated memory try setting max_split_size_mb to avoid fragmentation.  See documentation for Memory Management and PYTORCH_CUDA_ALLOC_CONF",
     "output_type": "error",
     "traceback": [
      "\u001b[1;31m---------------------------------------------------------------------------\u001b[0m",
      "\u001b[1;31mRuntimeError\u001b[0m                              Traceback (most recent call last)",
      "\u001b[1;32md:\\Code\\projects_code\\DojiMiniNeRF\\mini_nerf.ipynb Cell 9\u001b[0m in \u001b[0;36m<cell line: 25>\u001b[1;34m()\u001b[0m\n\u001b[0;32m     <a href='vscode-notebook-cell:/d%3A/Code/projects_code/DojiMiniNeRF/mini_nerf.ipynb#X13sZmlsZQ%3D%3D?line=33'>34</a>\u001b[0m rays_d\u001b[39m.\u001b[39mto(device)\n\u001b[0;32m     <a href='vscode-notebook-cell:/d%3A/Code/projects_code/DojiMiniNeRF/mini_nerf.ipynb#X13sZmlsZQ%3D%3D?line=35'>36</a>\u001b[0m optimizer\u001b[39m.\u001b[39mzero_grad()\n\u001b[1;32m---> <a href='vscode-notebook-cell:/d%3A/Code/projects_code/DojiMiniNeRF/mini_nerf.ipynb#X13sZmlsZQ%3D%3D?line=36'>37</a>\u001b[0m rgb, depth, acc \u001b[39m=\u001b[39m render_rays(model, rays_o, rays_d, near\u001b[39m=\u001b[39;49m\u001b[39m2.\u001b[39;49m, far\u001b[39m=\u001b[39;49m\u001b[39m6.\u001b[39;49m, N_samples\u001b[39m=\u001b[39;49mN_samples, rand\u001b[39m=\u001b[39;49m\u001b[39mTrue\u001b[39;49;00m)\n\u001b[0;32m     <a href='vscode-notebook-cell:/d%3A/Code/projects_code/DojiMiniNeRF/mini_nerf.ipynb#X13sZmlsZQ%3D%3D?line=37'>38</a>\u001b[0m loss \u001b[39m=\u001b[39m criterion(rgb, target)\n\u001b[0;32m     <a href='vscode-notebook-cell:/d%3A/Code/projects_code/DojiMiniNeRF/mini_nerf.ipynb#X13sZmlsZQ%3D%3D?line=38'>39</a>\u001b[0m loss\u001b[39m.\u001b[39mbackward()\n",
      "\u001b[1;32md:\\Code\\projects_code\\DojiMiniNeRF\\mini_nerf.ipynb Cell 9\u001b[0m in \u001b[0;36mrender_rays\u001b[1;34m(network, rays_ori, rays_dir, near, far, N_samples, rand)\u001b[0m\n\u001b[0;32m     <a href='vscode-notebook-cell:/d%3A/Code/projects_code/DojiMiniNeRF/mini_nerf.ipynb#X13sZmlsZQ%3D%3D?line=42'>43</a>\u001b[0m inputs \u001b[39m=\u001b[39m positional_encoding(x \u001b[39m=\u001b[39m flat_points, l \u001b[39m=\u001b[39m \u001b[39m6\u001b[39m)\n\u001b[0;32m     <a href='vscode-notebook-cell:/d%3A/Code/projects_code/DojiMiniNeRF/mini_nerf.ipynb#X13sZmlsZQ%3D%3D?line=43'>44</a>\u001b[0m \u001b[39m# predict\u001b[39;00m\n\u001b[1;32m---> <a href='vscode-notebook-cell:/d%3A/Code/projects_code/DojiMiniNeRF/mini_nerf.ipynb#X13sZmlsZQ%3D%3D?line=44'>45</a>\u001b[0m inputs\u001b[39m.\u001b[39;49mto(device)\n\u001b[0;32m     <a href='vscode-notebook-cell:/d%3A/Code/projects_code/DojiMiniNeRF/mini_nerf.ipynb#X13sZmlsZQ%3D%3D?line=45'>46</a>\u001b[0m \u001b[39m# discard function, directly write here\u001b[39;00m\n\u001b[0;32m     <a href='vscode-notebook-cell:/d%3A/Code/projects_code/DojiMiniNeRF/mini_nerf.ipynb#X13sZmlsZQ%3D%3D?line=46'>47</a>\u001b[0m sigma_a, rgb \u001b[39m=\u001b[39m network(inputs[:chunk])\n",
      "\u001b[1;31mRuntimeError\u001b[0m: CUDA out of memory. Tried to allocate 96.00 MiB (GPU 0; 4.00 GiB total capacity; 3.05 GiB already allocated; 0 bytes free; 3.10 GiB reserved in total by PyTorch) If reserved memory is >> allocated memory try setting max_split_size_mb to avoid fragmentation.  See documentation for Memory Management and PYTORCH_CUDA_ALLOC_CONF"
     ]
    }
   ],
   "source": [
    "# start training, better move this part to google colab\n",
    "model = NeRF()\n",
    "model.to(device)\n",
    "criterion = nn.MSELoss()\n",
    "optimizer = torch.optim.Adam(model.parameters(), lr = 5e-4)\n",
    "\n",
    "N_samples = 64\n",
    "N_iters = 1000\n",
    "psnrs = []\n",
    "iternums = []\n",
    "i_plot = 10\n",
    "\n",
    "import time\n",
    "t = time.time()\n",
    "\n",
    "# to device\n",
    "# if torch.cuda.is_available():\n",
    "#     device = torch.device('cuda')\n",
    "# else:\n",
    "#     device = torch.device('cpu')\n",
    "# model = model.to(device)\n",
    "# images = torch.tensor(images).to(device)\n",
    "# poses = torch.tensor(poses).to(device)\n",
    "\n",
    "for i in range(N_iters + 1):\n",
    "    # start training\n",
    "    model.train()\n",
    "    # randomly select one image to train\n",
    "    sample_no = np.random.randint(images.shape[0])\n",
    "    target = images[sample_no]\n",
    "    pose = poses[sample_no]\n",
    "    rays_o, rays_d = get_rays(H, W, focal, pose)\n",
    "    rays_o.to(device)\n",
    "    rays_d.to(device)\n",
    "    \n",
    "    optimizer.zero_grad()\n",
    "    rgb, depth, acc = render_rays(model, rays_o, rays_d, near=2., far=6., N_samples=N_samples, rand=True)\n",
    "    loss = criterion(rgb, target)\n",
    "    loss.backward()\n",
    "    optimizer.step()\n",
    "\n",
    "    if i % i_plot == 0:\n",
    "        model.eval()\n",
    "        with torch.no_grad():\n",
    "            print(i, (time.time() - t) / i_plot, 'secs per image training')\n",
    "            t = time.time()\n",
    "            rays_o, rays_d = get_rays(H, W, focal, testpose)\n",
    "            rgb, depth, acc = render_rays(model, rays_o, rays_d, near=2., far=6., N_samples=N_samples, rand=True)\n",
    "            loss = criterion(rgb, testimage)\n",
    "\n",
    "            # plot\n",
    "            psnr = -10. * torch.log(loss) / torch.log(torch.tensor(10.))\n",
    "            psnrs.append(psnr.numpy())\n",
    "            iternums.append(i)\n",
    "\n",
    "            plt.figure(figsize=(10,4))\n",
    "            plt.subplot(121)\n",
    "            plt.imshow(rgb)\n",
    "            plt.title(f'Iteration: {i}')\n",
    "            plt.subplot(122)\n",
    "            plt.plot(iternums, psnrs)\n",
    "            plt.title('PSNR')\n",
    "            plt.show()"
   ]
  },
  {
   "cell_type": "code",
   "execution_count": null,
   "metadata": {},
   "outputs": [],
   "source": []
  }
 ],
 "metadata": {
  "kernelspec": {
   "display_name": "Python 3.8.13 ('nerf')",
   "language": "python",
   "name": "python3"
  },
  "language_info": {
   "codemirror_mode": {
    "name": "ipython",
    "version": 3
   },
   "file_extension": ".py",
   "mimetype": "text/x-python",
   "name": "python",
   "nbconvert_exporter": "python",
   "pygments_lexer": "ipython3",
   "version": "3.8.13"
  },
  "orig_nbformat": 4,
  "vscode": {
   "interpreter": {
    "hash": "95e3dc380d6d01a56ca4e836ca4705e79d6618b92bf3a68652c205662fd47b61"
   }
  }
 },
 "nbformat": 4,
 "nbformat_minor": 2
}
